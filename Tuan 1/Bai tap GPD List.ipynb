{
 "cells": [
  {
   "cell_type": "code",
   "execution_count": 56,
   "metadata": {},
   "outputs": [
    {
     "name": "stdout",
     "output_type": "stream",
     "text": [
      "So dong la 125\n",
      "So cot la 3\n",
      "                Nước        Thành phố       Châu lục  GDP (triệu $)\n",
      "4          Argentina        Argentina  South America         447644\n",
      "5          Australia        Australia        Oceania        1488221\n",
      "6            Austria          Austria         Europe         419243\n",
      "11           Belgium          Belgium         Europe         513396\n",
      "15            Brazil           Brazil  South America        2492908\n",
      "21            Canada           Canada  North America        1736869\n",
      "24          Colombia         Colombia  South America         328422\n",
      "32           Denmark          Denmark         Europe         333238\n",
      "41            France           France         Europe        2776324\n",
      "44           Germany          Germany         Europe        3577031\n",
      "46            Greece           Greece         Europe         303065\n",
      "58             Italy            Italy         Europe        2198730\n",
      "73            Mexico           Mexico  North America        1154784\n",
      "78       Netherlands      Netherlands         Europe         840433\n",
      "81            Norway           Norway         Europe         483650\n",
      "89            Poland           Poland         Europe         513821\n",
      "100     South Africa     South Africa         Africa         408074\n",
      "102            Spain            Spain         Europe        1493513\n",
      "105           Sweden           Sweden         Europe         538237\n",
      "106      Switzerland      Switzerland         Europe         636059\n",
      "117   United Kingdom   United Kingdom         Europe        2417570\n",
      "118    United States    United States  North America       15094025\n",
      "121        Venezuela        Venezuela  South America         315841\n"
     ]
    }
   ],
   "source": [
    "import pandas as pd\n",
    "\n",
    "df = pd.read_csv(filepath_or_buffer=\"GDPlist.csv\")\n",
    "\n",
    "print('So dong la', df.shape[0])\n",
    "print('So cot la', df.shape[1])\n",
    "\n",
    "df.dtypes\n",
    "\n",
    "df.rename(columns= {'Country': 'Nước', 'Continent': 'Châu lục', 'GDP (millions of US$)': 'GDP (triệu $)'}, inplace= True)\n",
    "\n",
    "df.insert(1, 'Thành phố', value = df['Nước'])\n",
    "\n",
    "df['Thành phố'].replace(\"Afghanistan\", \"Kabul\", inplace = True)\n",
    "df['Thành phố'].replace(\"Vietnam\", \"Hà Nội\", inplace = True)\n",
    "\n",
    "df.drop(df[df['Châu lục'] == 'Asia'].index, inplace=True)\n",
    "df.drop(df[df['GDP (triệu $)'] < 300000].index, inplace= True)\n",
    "\n",
    "print(df)"
   ]
  },
  {
   "cell_type": "code",
   "execution_count": null,
   "metadata": {},
   "outputs": [],
   "source": []
  },
  {
   "cell_type": "code",
   "execution_count": null,
   "metadata": {},
   "outputs": [],
   "source": []
  },
  {
   "cell_type": "code",
   "execution_count": null,
   "metadata": {},
   "outputs": [],
   "source": []
  }
 ],
 "metadata": {
  "kernelspec": {
   "display_name": "Python 3",
   "language": "python",
   "name": "python3"
  },
  "language_info": {
   "codemirror_mode": {
    "name": "ipython",
    "version": 3
   },
   "file_extension": ".py",
   "mimetype": "text/x-python",
   "name": "python",
   "nbconvert_exporter": "python",
   "pygments_lexer": "ipython3",
   "version": "3.11.5"
  }
 },
 "nbformat": 4,
 "nbformat_minor": 2
}
