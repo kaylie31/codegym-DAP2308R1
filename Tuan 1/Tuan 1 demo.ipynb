{
 "cells": [
  {
   "cell_type": "code",
   "execution_count": 60,
   "metadata": {},
   "outputs": [
    {
     "data": {
      "text/html": [
       "<div>\n",
       "<style scoped>\n",
       "    .dataframe tbody tr th:only-of-type {\n",
       "        vertical-align: middle;\n",
       "    }\n",
       "\n",
       "    .dataframe tbody tr th {\n",
       "        vertical-align: top;\n",
       "    }\n",
       "\n",
       "    .dataframe thead th {\n",
       "        text-align: right;\n",
       "    }\n",
       "</style>\n",
       "<table border=\"1\" class=\"dataframe\">\n",
       "  <thead>\n",
       "    <tr style=\"text-align: right;\">\n",
       "      <th></th>\n",
       "      <th>Ten</th>\n",
       "      <th>Tuoi</th>\n",
       "    </tr>\n",
       "  </thead>\n",
       "  <tbody>\n",
       "    <tr>\n",
       "      <th>0</th>\n",
       "      <td>Tien</td>\n",
       "      <td>26</td>\n",
       "    </tr>\n",
       "    <tr>\n",
       "      <th>1</th>\n",
       "      <td>Hai</td>\n",
       "      <td>28</td>\n",
       "    </tr>\n",
       "    <tr>\n",
       "      <th>2</th>\n",
       "      <td>Hung</td>\n",
       "      <td>22</td>\n",
       "    </tr>\n",
       "  </tbody>\n",
       "</table>\n",
       "</div>"
      ],
      "text/plain": [
       "    Ten  Tuoi\n",
       "0  Tien    26\n",
       "1   Hai    28\n",
       "2  Hung    22"
      ]
     },
     "execution_count": 60,
     "metadata": {},
     "output_type": "execute_result"
    }
   ],
   "source": [
    "import pandas as pd\n",
    "# thu vien\n",
    "import numpy as np\n",
    "\n",
    "# thu vien de truc quan hoa du lieu\n",
    "# seaborn\n",
    "# matplotlib\n",
    "\n",
    "# thu vien chay mo hinh du doan\n",
    "# scikit-learn\n",
    "\n",
    "# tao dataframe rong \n",
    "df = pd.DataFrame()\n",
    "df\n",
    "\n",
    "# tao dataFrame tu list\n",
    "lst = [\"Tiên\", \"Hải\", \"Hưng\", \"Khánh\"]\n",
    "df = pd.DataFrame(lst)\n",
    "df\n",
    " \n",
    "# tao dataFrame tu tuple\n",
    "tuples = [(\"Kế toán\", 2000), (\"Kinh doanh\", 1943), (\"Tiếp thị\", 2342)]\n",
    "df = pd.DataFrame(tuples, columns= [\"Nghe\", \"Luong\"])\n",
    "df\n",
    " \n",
    "# # tao dataFrame tu tuple\n",
    "tuplesCodegym = [(\"Tien\", 26), (\"Hai\", 28), (\"Hung\", 22)]\n",
    "df = pd.DataFrame(tuplesCodegym, columns= [\"Ten\", \"Tuoi\"])\n",
    "df"
   ]
  },
  {
   "cell_type": "code",
   "execution_count": 61,
   "metadata": {},
   "outputs": [
    {
     "data": {
      "text/html": [
       "<div>\n",
       "<style scoped>\n",
       "    .dataframe tbody tr th:only-of-type {\n",
       "        vertical-align: middle;\n",
       "    }\n",
       "\n",
       "    .dataframe tbody tr th {\n",
       "        vertical-align: top;\n",
       "    }\n",
       "\n",
       "    .dataframe thead th {\n",
       "        text-align: right;\n",
       "    }\n",
       "</style>\n",
       "<table border=\"1\" class=\"dataframe\">\n",
       "  <thead>\n",
       "    <tr style=\"text-align: right;\">\n",
       "      <th></th>\n",
       "      <th>Ten</th>\n",
       "      <th>Tuoi</th>\n",
       "    </tr>\n",
       "  </thead>\n",
       "  <tbody>\n",
       "    <tr>\n",
       "      <th>0</th>\n",
       "      <td>Hung</td>\n",
       "      <td>22</td>\n",
       "    </tr>\n",
       "    <tr>\n",
       "      <th>1</th>\n",
       "      <td>Khanh</td>\n",
       "      <td>21</td>\n",
       "    </tr>\n",
       "    <tr>\n",
       "      <th>2</th>\n",
       "      <td>Hai</td>\n",
       "      <td>23</td>\n",
       "    </tr>\n",
       "    <tr>\n",
       "      <th>3</th>\n",
       "      <td>Hung</td>\n",
       "      <td>25</td>\n",
       "    </tr>\n",
       "  </tbody>\n",
       "</table>\n",
       "</div>"
      ],
      "text/plain": [
       "     Ten  Tuoi\n",
       "0   Hung    22\n",
       "1  Khanh    21\n",
       "2    Hai    23\n",
       "3   Hung    25"
      ]
     },
     "execution_count": 61,
     "metadata": {},
     "output_type": "execute_result"
    }
   ],
   "source": [
    "import pandas as pd\n",
    "\n",
    "# key: khoá\n",
    "# value: giá tri # bieu diên: {}\n",
    "dic = {'Ten': ['Hung', 'Khanh', 'Hai', 'Hung'],\n",
    "'Tuoi': [22, 21, 23, 25]}\n",
    "df = pd. DataFrame (dic)\n",
    "df"
   ]
  },
  {
   "cell_type": "code",
   "execution_count": 62,
   "metadata": {},
   "outputs": [
    {
     "data": {
      "text/plain": [
       "0     Tien\n",
       "1     Hung\n",
       "2      Hai\n",
       "3    Khanh\n",
       "4    Khanh\n",
       "5      Dat\n",
       "dtype: object"
      ]
     },
     "execution_count": 62,
     "metadata": {},
     "output_type": "execute_result"
    }
   ],
   "source": [
    "# tao series\n",
    "import pandas as pd\n",
    "dictCG = {0: \"Tien\", 1: \"Hung\", 2: \"Hai\", 3: \"Khanh\", 4: \"Khanh\", 5: \"Dat\"}\n",
    "seri = pd.Series(dictCG)\n",
    "seri"
   ]
  },
  {
   "cell_type": "code",
   "execution_count": 63,
   "metadata": {},
   "outputs": [
    {
     "data": {
      "text/plain": [
       "0    26\n",
       "1    27\n",
       "2    20\n",
       "3    21\n",
       "4    22\n",
       "5    23\n",
       "dtype: int64"
      ]
     },
     "execution_count": 63,
     "metadata": {},
     "output_type": "execute_result"
    }
   ],
   "source": [
    "# tao series tu numpyArray\n",
    "import pandas as pd\n",
    "import numpy as np\n",
    "\n",
    "arr = np.array([26, 27, 20, 21, 22, 23])\n",
    "seri = pd.Series(arr)\n",
    "seri"
   ]
  },
  {
   "cell_type": "code",
   "execution_count": 64,
   "metadata": {},
   "outputs": [
    {
     "data": {
      "text/plain": [
       "0    10\n",
       "1    10\n",
       "2    10\n",
       "3    10\n",
       "4    10\n",
       "dtype: int64"
      ]
     },
     "execution_count": 64,
     "metadata": {},
     "output_type": "execute_result"
    }
   ],
   "source": [
    "# tao seies tu gia tri vo huong\n",
    "import pandas as pd\n",
    "\n",
    "seri = pd.Series(10, index = [0, 1, 2, 3, 4])\n",
    "seri"
   ]
  },
  {
   "cell_type": "code",
   "execution_count": 72,
   "metadata": {},
   "outputs": [
    {
     "name": "stdout",
     "output_type": "stream",
     "text": [
      "So dong du lieu: 7381\n",
      "So cot du lieu: 8\n",
      "<class 'pandas.core.frame.DataFrame'>\n",
      "RangeIndex: 7381 entries, 0 to 7380\n",
      "Data columns (total 8 columns):\n",
      " #   Column       Non-Null Count  Dtype  \n",
      "---  ------       --------------  -----  \n",
      " 0   Place        7381 non-null   object \n",
      " 1   ProductId    7381 non-null   int64  \n",
      " 2   ProductName  7381 non-null   object \n",
      " 3   UmId         7381 non-null   int64  \n",
      " 4   UmName       7381 non-null   object \n",
      " 5   Month        7381 non-null   int64  \n",
      " 6   Year         7381 non-null   int64  \n",
      " 7   Price        7381 non-null   float64\n",
      "dtypes: float64(1), int64(4), object(3)\n",
      "memory usage: 461.4+ KB\n"
     ]
    }
   ],
   "source": [
    "# doc du lieu co san trong file\n",
    "# neu khong cung folder: df = pd.read_csv(\"File path\")\n",
    "\n",
    "import pandas as pd\n",
    "df = pd.read_csv(\"FoodPrice_in_Turkey.csv\")\n",
    "df.head()\n",
    "df.tail()\n",
    "df.sample(5)\n",
    "\n",
    "print(\"So dong du lieu:\", df.shape[0])\n",
    "print(\"So cot du lieu:\", df.shape[1])\n",
    "\n",
    "df.columns\n",
    "df.info() # hoac df.dtypes"
   ]
  },
  {
   "cell_type": "markdown",
   "metadata": {},
   "source": [
    "Truy cap truc tiep: Ten, theo dia chi -- .loc\n",
    "Truy cap theo dem so: 2 -- .iloc\n",
    "\n",
    ".loc(hang, cot)"
   ]
  },
  {
   "cell_type": "code",
   "execution_count": 81,
   "metadata": {},
   "outputs": [
    {
     "data": {
      "text/html": [
       "<div>\n",
       "<style scoped>\n",
       "    .dataframe tbody tr th:only-of-type {\n",
       "        vertical-align: middle;\n",
       "    }\n",
       "\n",
       "    .dataframe tbody tr th {\n",
       "        vertical-align: top;\n",
       "    }\n",
       "\n",
       "    .dataframe thead th {\n",
       "        text-align: right;\n",
       "    }\n",
       "</style>\n",
       "<table border=\"1\" class=\"dataframe\">\n",
       "  <thead>\n",
       "    <tr style=\"text-align: right;\">\n",
       "      <th></th>\n",
       "      <th>Month</th>\n",
       "      <th>Year</th>\n",
       "    </tr>\n",
       "  </thead>\n",
       "  <tbody>\n",
       "    <tr>\n",
       "      <th>3</th>\n",
       "      <td>12</td>\n",
       "      <td>2013</td>\n",
       "    </tr>\n",
       "    <tr>\n",
       "      <th>4</th>\n",
       "      <td>1</td>\n",
       "      <td>2014</td>\n",
       "    </tr>\n",
       "  </tbody>\n",
       "</table>\n",
       "</div>"
      ],
      "text/plain": [
       "   Month  Year\n",
       "3     12  2013\n",
       "4      1  2014"
      ]
     },
     "execution_count": 81,
     "metadata": {},
     "output_type": "execute_result"
    }
   ],
   "source": [
    "import pandas as pd\n",
    "df = pd.read_csv(\"FoodPrice_in_Turkey.csv\")\n",
    "\n",
    "# Truy cap dong co chi so 4 (dong thu 5)\n",
    "tg = df.iloc[4:8] # tu dong thu 3 toi (8-1)\n",
    "\n",
    "tg = df.iloc[[3, 5, 7]]\n",
    "\n",
    "tg = df.iloc[:,4] # hàng, cột\n",
    "tg = df.iloc[3:5,5:7]\n",
    "tg"
   ]
  },
  {
   "cell_type": "code",
   "execution_count": 91,
   "metadata": {},
   "outputs": [
    {
     "data": {
      "text/html": [
       "<div>\n",
       "<style scoped>\n",
       "    .dataframe tbody tr th:only-of-type {\n",
       "        vertical-align: middle;\n",
       "    }\n",
       "\n",
       "    .dataframe tbody tr th {\n",
       "        vertical-align: top;\n",
       "    }\n",
       "\n",
       "    .dataframe thead th {\n",
       "        text-align: right;\n",
       "    }\n",
       "</style>\n",
       "<table border=\"1\" class=\"dataframe\">\n",
       "  <thead>\n",
       "    <tr style=\"text-align: right;\">\n",
       "      <th></th>\n",
       "      <th>ProductName</th>\n",
       "      <th>UmId</th>\n",
       "      <th>UmName</th>\n",
       "    </tr>\n",
       "  </thead>\n",
       "  <tbody>\n",
       "    <tr>\n",
       "      <th>20</th>\n",
       "      <td>Rice - Retail</td>\n",
       "      <td>5</td>\n",
       "      <td>KG</td>\n",
       "    </tr>\n",
       "    <tr>\n",
       "      <th>22</th>\n",
       "      <td>Rice - Retail</td>\n",
       "      <td>5</td>\n",
       "      <td>KG</td>\n",
       "    </tr>\n",
       "    <tr>\n",
       "      <th>24</th>\n",
       "      <td>Rice - Retail</td>\n",
       "      <td>5</td>\n",
       "      <td>KG</td>\n",
       "    </tr>\n",
       "    <tr>\n",
       "      <th>26</th>\n",
       "      <td>Rice - Retail</td>\n",
       "      <td>5</td>\n",
       "      <td>KG</td>\n",
       "    </tr>\n",
       "    <tr>\n",
       "      <th>28</th>\n",
       "      <td>Rice - Retail</td>\n",
       "      <td>5</td>\n",
       "      <td>KG</td>\n",
       "    </tr>\n",
       "  </tbody>\n",
       "</table>\n",
       "</div>"
      ],
      "text/plain": [
       "      ProductName  UmId UmName\n",
       "20  Rice - Retail     5     KG\n",
       "22  Rice - Retail     5     KG\n",
       "24  Rice - Retail     5     KG\n",
       "26  Rice - Retail     5     KG\n",
       "28  Rice - Retail     5     KG"
      ]
     },
     "execution_count": 91,
     "metadata": {},
     "output_type": "execute_result"
    }
   ],
   "source": [
    "import pandas as pd\n",
    "df = pd.read_csv(\"FoodPrice_in_Turkey.csv\")\n",
    "\n",
    "# Lấy giá trị từ cột 3 đến 6\n",
    "tg = df.iloc[3:6, :]\n",
    "\n",
    "# Lấy giá trị hàng 30, cột 5\n",
    "tg = df.iloc [30, 5]\n",
    "\n",
    "# Lấy giá trị hàng 20 dến 30, cột 2 đến 5, step 2 theo hàng\n",
    "tg = df.iloc[20:30:2, 2:5]\n",
    "tg\n"
   ]
  },
  {
   "cell_type": "markdown",
   "metadata": {},
   "source": [
    "Tổng kết\n",
    "- Pandas là thư viện trong python\n",
    "- Gồm dataFrame, seri\n",
    "- Cách tạo bảng, seri thủ công\n",
    "- Xử lý data\n",
    "    - Xem bảng trông ntn: df.head, df.tail, df.sample, df.info\n",
    "    - Tổng quát về bảng:\n",
    "        - bn hàng, bn cột df.shape\n",
    "        - tên cột: df.comlumns\n",
    "        - kiểu dữ liệu: df.info, df.dtypes\n",
    "    - Truy cập dữ liệu:\n",
    "        - .loc\n",
    "        - .iloc hàng, cột\n",
    "            - hàng cụ thể .iloc[2]\n",
    "            - chuỗi hàng .iloc[2:5]\n",
    "            - chỉ gọi cột df.iloc[:, 3]\n",
    "            - chuỗi hàng, chuỗi cột df.iloc[2:9, 3:6]\n",
    "            - step"
   ]
  },
  {
   "cell_type": "code",
   "execution_count": null,
   "metadata": {},
   "outputs": [],
   "source": []
  }
 ],
 "metadata": {
  "kernelspec": {
   "display_name": "Python 3",
   "language": "python",
   "name": "python3"
  },
  "language_info": {
   "codemirror_mode": {
    "name": "ipython",
    "version": 3
   },
   "file_extension": ".py",
   "mimetype": "text/x-python",
   "name": "python",
   "nbconvert_exporter": "python",
   "pygments_lexer": "ipython3",
   "version": "3.11.5"
  }
 },
 "nbformat": 4,
 "nbformat_minor": 2
}
