{
 "cells": [
  {
   "cell_type": "code",
   "execution_count": 32,
   "metadata": {},
   "outputs": [
    {
     "name": "stdout",
     "output_type": "stream",
     "text": [
      "So dong la 541909\n",
      "So cot la 3\n",
      "        Unnamed: 0                          Description  Quantity\n",
      "0                0   WHITE HANGING HEART T-LIGHT HOLDER         6\n",
      "1                1                  WHITE METAL LANTERN         6\n",
      "2                2       CREAM CUPID HEARTS COAT HANGER         8\n",
      "3                3  KNITTED UNION FLAG HOT WATER BOTTLE         6\n",
      "4                4       RED WOOLLY HOTTIE WHITE HEART.         6\n",
      "...            ...                                  ...       ...\n",
      "541904      541904          PACK OF 20 SPACEBOY NAPKINS        12\n",
      "541905      541905          CHILDREN'S APRON DOLLY GIRL         6\n",
      "541906      541906         CHILDRENS CUTLERY DOLLY GIRL         4\n",
      "541907      541907      CHILDRENS CUTLERY CIRCUS PARADE         4\n",
      "541908      541908         BAKING SET 9 PIECE RETROSPOT         3\n",
      "\n",
      "[541909 rows x 3 columns]\n"
     ]
    }
   ],
   "source": [
    "import pandas as pd\n",
    "\n",
    "df = pd.read_csv(filepath_or_buffer=\"OnlineRetail.csv\")\n",
    "\n",
    "print('So dong la', df.shape[0])\n",
    "print('So cot la', df.shape[1])\n",
    "\n",
    "df.dtypes\n",
    "\n",
    "df[['Description', 'Quantity']].to_csv('OnlineRetail.csv')\n",
    "\n",
    "# df.head(1000).to_excel('OnlineRetail.xlsx')\n",
    "# df[df['Quantity'] >= 10].to_hdf('OnlineRetail.h5', key = df, mode = 'w')\n",
    "# df.iloc[999:2000, 3:5].to_json('OnlineRetail.json', orient='columns')\n",
    "# df[df['InvoiceNo'] == '536365'].to_html('OnlineRetail.html')\n",
    "\n",
    "print(df)"
   ]
  },
  {
   "cell_type": "code",
   "execution_count": null,
   "metadata": {},
   "outputs": [],
   "source": []
  },
  {
   "cell_type": "code",
   "execution_count": null,
   "metadata": {},
   "outputs": [],
   "source": []
  }
 ],
 "metadata": {
  "kernelspec": {
   "display_name": "Python 3",
   "language": "python",
   "name": "python3"
  },
  "language_info": {
   "codemirror_mode": {
    "name": "ipython",
    "version": 3
   },
   "file_extension": ".py",
   "mimetype": "text/x-python",
   "name": "python",
   "nbconvert_exporter": "python",
   "pygments_lexer": "ipython3",
   "version": "3.11.5"
  }
 },
 "nbformat": 4,
 "nbformat_minor": 2
}
